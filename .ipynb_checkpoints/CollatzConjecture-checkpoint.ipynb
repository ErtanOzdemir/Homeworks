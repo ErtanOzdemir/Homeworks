{
 "cells": [
  {
   "cell_type": "code",
   "execution_count": 1,
   "metadata": {},
   "outputs": [],
   "source": [
    "def collatz(number):\n",
    "    \n",
    "    quotient=number\n",
    "    \n",
    "    while quotient > 1:\n",
    "        \n",
    "        if quotient % 2 == 0:\n",
    "             \n",
    "             print(\"{}/2 = {}\".format(int(quotient),int(quotient/2)))\n",
    "             quotient = quotient/2\n",
    "             \n",
    "        else:\n",
    "            print(\"({}*3)+1 = {}\".format(int(quotient),int((quotient*3)+1)))\n",
    "            quotient = (quotient*3)+1"
   ]
  },
  {
   "cell_type": "code",
   "execution_count": null,
   "metadata": {},
   "outputs": [
    {
     "name": "stdout",
     "output_type": "stream",
     "text": [
      ">>> Collatz Conjecture <<<\n"
     ]
    }
   ],
   "source": [
    "print(\">>> Collatz Conjecture <<<\")\n",
    "intNum=int(input(\"Please enter an integer number: \"))\n",
    "collatz(intNum)"
   ]
  },
  {
   "cell_type": "code",
   "execution_count": null,
   "metadata": {},
   "outputs": [],
   "source": []
  }
 ],
 "metadata": {
  "kernelspec": {
   "display_name": "Python 3",
   "language": "python",
   "name": "python3"
  },
  "language_info": {
   "codemirror_mode": {
    "name": "ipython",
    "version": 3
   },
   "file_extension": ".py",
   "mimetype": "text/x-python",
   "name": "python",
   "nbconvert_exporter": "python",
   "pygments_lexer": "ipython3",
   "version": "3.7.4"
  }
 },
 "nbformat": 4,
 "nbformat_minor": 2
}
