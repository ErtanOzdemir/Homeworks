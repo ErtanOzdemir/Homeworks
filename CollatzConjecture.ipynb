{
 "cells": [
  {
   "cell_type": "code",
   "execution_count": 3,
   "metadata": {},
   "outputs": [],
   "source": [
    "def collatz(number):\n",
    "    \n",
    "    quotient=number\n",
    "    \n",
    "    while quotient > 1:\n",
    "        \n",
    "        if quotient % 2 == 0:\n",
    "             \n",
    "             print(\"{}/2 = {}\".format(int(quotient),int(quotient/2)))\n",
    "             quotient = quotient/2\n",
    "             \n",
    "        else:\n",
    "            print(\"({}*3)+1 = {}\".format(int(quotient),int((quotient*3)+1)))\n",
    "            quotient = (quotient*3)+1"
   ]
  },
  {
   "cell_type": "code",
   "execution_count": 4,
   "metadata": {},
   "outputs": [
    {
     "name": "stdout",
     "output_type": "stream",
     "text": [
      ">>> Collatz Conjecture <<<\n",
      "Please enter an integer number: 25\n",
      "(25*3)+1 = 76\n",
      "76/2 = 38\n",
      "38/2 = 19\n",
      "(19*3)+1 = 58\n",
      "58/2 = 29\n",
      "(29*3)+1 = 88\n",
      "88/2 = 44\n",
      "44/2 = 22\n",
      "22/2 = 11\n",
      "(11*3)+1 = 34\n",
      "34/2 = 17\n",
      "(17*3)+1 = 52\n",
      "52/2 = 26\n",
      "26/2 = 13\n",
      "(13*3)+1 = 40\n",
      "40/2 = 20\n",
      "20/2 = 10\n",
      "10/2 = 5\n",
      "(5*3)+1 = 16\n",
      "16/2 = 8\n",
      "8/2 = 4\n",
      "4/2 = 2\n",
      "2/2 = 1\n"
     ]
    }
   ],
   "source": [
    "print(\">>> Collatz Conjecture <<<\")\n",
    "intNum=int(input(\"Please enter an integer number: \"))\n",
    "collatz(intNum)"
   ]
  }
 ],
 "metadata": {
  "kernelspec": {
   "display_name": "Python 3",
   "language": "python",
   "name": "python3"
  },
  "language_info": {
   "codemirror_mode": {
    "name": "ipython",
    "version": 3
   },
   "file_extension": ".py",
   "mimetype": "text/x-python",
   "name": "python",
   "nbconvert_exporter": "python",
   "pygments_lexer": "ipython3",
   "version": "3.7.4"
  }
 },
 "nbformat": 4,
 "nbformat_minor": 2
}
